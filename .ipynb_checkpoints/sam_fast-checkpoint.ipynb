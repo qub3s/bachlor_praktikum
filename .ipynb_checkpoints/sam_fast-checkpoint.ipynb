{
 "cells": [
  {
   "cell_type": "code",
   "execution_count": 1,
   "id": "4c42dc31-fd9e-4fec-8763-c85e0dd40b16",
   "metadata": {},
   "outputs": [],
   "source": [
    "!pip3 install -q --pre torch torchvision torchaudio --index-url https://download.pytorch.org/whl/nightly/cu121\n",
    "!pip3 install -q git+https://github.com/pytorch-labs/segment-anything-fast.git\n",
    "!pip3 install -q IProgress\n",
    "!pip3 install -q triton"
   ]
  },
  {
   "cell_type": "code",
   "execution_count": null,
   "id": "057a1356-4947-44cb-ad63-f65a9d6f68b2",
   "metadata": {},
   "outputs": [],
   "source": []
  },
  {
   "cell_type": "code",
   "execution_count": 2,
   "id": "cc50904f-bf30-4dd9-9df5-db3965ab24e4",
   "metadata": {},
   "outputs": [
    {
     "name": "stderr",
     "output_type": "stream",
     "text": [
      "/home/qub3/.local/lib/python3.12/site-packages/tqdm/auto.py:21: TqdmWarning: IProgress not found. Please update jupyter and ipywidgets. See https://ipywidgets.readthedocs.io/en/stable/user_install.html\n",
      "  from .autonotebook import tqdm as notebook_tqdm\n"
     ]
    }
   ],
   "source": [
    "from segment_anything_fast import sam_model_registry"
   ]
  },
  {
   "cell_type": "code",
   "execution_count": null,
   "id": "0faaede7-06fc-47bf-80c4-1626f0460c9d",
   "metadata": {},
   "outputs": [],
   "source": []
  }
 ],
 "metadata": {
  "kernelspec": {
   "display_name": "Python 3 (ipykernel)",
   "language": "python",
   "name": "python3"
  },
  "language_info": {
   "codemirror_mode": {
    "name": "ipython",
    "version": 3
   },
   "file_extension": ".py",
   "mimetype": "text/x-python",
   "name": "python",
   "nbconvert_exporter": "python",
   "pygments_lexer": "ipython3",
   "version": "3.12.2"
  }
 },
 "nbformat": 4,
 "nbformat_minor": 5
}
